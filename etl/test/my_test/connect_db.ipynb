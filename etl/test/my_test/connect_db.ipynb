{
 "cells": [
  {
   "cell_type": "code",
   "execution_count": 1,
   "metadata": {},
   "outputs": [
    {
     "name": "stdout",
     "output_type": "stream",
     "text": [
      "Connection successful!\n",
      "Failed to connect to the database: Not an executable object: \"SELECT tablename FROM pg_catalog.pg_tables WHERE schemaname='public';\"\n"
     ]
    }
   ],
   "source": [
    "import pandas as pd\n",
    "from sqlalchemy import create_engine\n",
    "\n",
    "# Database connection parameters\n",
    "db_user = \"myuser\"         # Replace with your database username\n",
    "db_password = \"mypassword\" # Replace with your database password\n",
    "db_host = \"localhost\"            # Replace with the host, e.g., 'localhost' or Docker's IP\n",
    "db_port = 5432                   # The port PostgreSQL is exposed on\n",
    "db_name = \"mydatabase\"         # Replace with your database name\n",
    "\n",
    "# Connection string\n",
    "connection_string = f\"postgresql+psycopg2://{db_user}:{db_password}@{db_host}:{db_port}/{db_name}\"\n",
    "\n",
    "# Create a SQLAlchemy engine\n",
    "engine = create_engine(connection_string)\n",
    "\n",
    "# Test the connection by querying the database\n",
    "try:\n",
    "    with engine.connect() as connection:\n",
    "        print(\"Connection successful!\")\n",
    "        # Example query: List all tables\n",
    "        result = connection.execute(\"SELECT tablename FROM pg_catalog.pg_tables WHERE schemaname='public';\")\n",
    "        tables = result.fetchall()\n",
    "        print(\"Tables in the database:\")\n",
    "        for table in tables:\n",
    "            print(table[0])\n",
    "except Exception as e:\n",
    "    print(f\"Failed to connect to the database: {e}\")"
   ]
  },
  {
   "cell_type": "code",
   "execution_count": 2,
   "metadata": {},
   "outputs": [
    {
     "name": "stdout",
     "output_type": "stream",
     "text": [
      "  business_id              type        street  post_code post_office_box  \\\n",
      "0   0782323-7    Postal address    Ritarikatu      170.0            None   \n",
      "1   0782324-5  Visiting address       Patotie     1600.0            None   \n",
      "2   0782324-5    Postal address       Patotie     1600.0            None   \n",
      "3   0782326-1    Postal address  Itämerenkatu      180.0            None   \n",
      "4   0782328-8    Postal address     JOKIRANTA     1400.0            None   \n",
      "\n",
      "  building_number entrance  apartment_number apartment_id_suffix  \\\n",
      "0               7        A               2.0                None   \n",
      "1               2     None               NaN                None   \n",
      "2               2     None               NaN                None   \n",
      "3               8        E              96.0                None   \n",
      "4              18        A               NaN                None   \n",
      "\n",
      "              co  country free_address_line registration_date  source  \n",
      "0           None  Finland              None        2023-03-27  Common  \n",
      "1  c/o Lainux Oy  Finland              None        2019-06-25  Common  \n",
      "2  c/o Lainux Oy  Finland              None        2019-06-25  Common  \n",
      "3           None  Finland              None        2020-05-02  Common  \n",
      "4           None  Finland              None        2000-01-12  Common  \n"
     ]
    }
   ],
   "source": [
    "# Query to fetch data\n",
    "query = \"SELECT * FROM addresses LIMIT 10;\"  # Replace 'your_table_name' with an actual table name\n",
    "\n",
    "# Load query results into a DataFrame\n",
    "df = pd.read_sql(query, engine)\n",
    "\n",
    "# Display the DataFrame\n",
    "print(df.head())"
   ]
  },
  {
   "cell_type": "code",
   "execution_count": 3,
   "metadata": {},
   "outputs": [
    {
     "name": "stdout",
     "output_type": "stream",
     "text": [
      "    count\n",
      "0  437516\n"
     ]
    }
   ],
   "source": [
    "# Query to fetch data\n",
    "query =\"\"\"\n",
    "SELECT COUNT(*)\n",
    "FROM companies\n",
    "WHERE status = 'Valid' ;\n",
    "\"\"\"\n",
    "# Load query results into a DataFrame\n",
    "df = pd.read_sql(query, engine)\n",
    "\n",
    "# Display the DataFrame\n",
    "print(df)"
   ]
  },
  {
   "cell_type": "code",
   "execution_count": 4,
   "metadata": {},
   "outputs": [
    {
     "name": "stdout",
     "output_type": "stream",
     "text": [
      "       business_id                                               type  \\\n",
      "0        2761680-9                       Letting of other real estate   \n",
      "1        2761688-4  Wholesale of diagnostic instruments and medica...   \n",
      "2        2761689-2                       Letting of other real estate   \n",
      "3        2761690-5                       Letting of other real estate   \n",
      "4        2761691-3  Operation of dwellings and residential real es...   \n",
      "...            ...                                                ...   \n",
      "872367   3274626-1          Operation of paid parking lots or garages   \n",
      "872368   3274628-8                                        Restaurants   \n",
      "872369   3274629-6                 Wholesale of perfume and cosmetics   \n",
      "872370   3274637-6  Photographic studio and other photographic act...   \n",
      "872371   3274638-4          Direct and outdoor advertising activities   \n",
      "\n",
      "       type_code_set registration_date              source  \n",
      "0             TOIMI3        2016-10-01  Tax Administration  \n",
      "1             TOIMI3        2016-04-21  Tax Administration  \n",
      "2             TOIMI3        2016-10-01  Tax Administration  \n",
      "3             TOIMI3        2016-10-01  Tax Administration  \n",
      "4             TOIMI3        2017-10-05  Tax Administration  \n",
      "...              ...               ...                 ...  \n",
      "872367        TOIMI3        2022-03-07  Tax Administration  \n",
      "872368        TOIMI3        2022-03-11  Tax Administration  \n",
      "872369        TOIMI3        2022-03-14  Tax Administration  \n",
      "872370        TOIMI3        2022-02-14  Tax Administration  \n",
      "872371        TOIMI3        2022-03-16  Tax Administration  \n",
      "\n",
      "[872372 rows x 5 columns]\n"
     ]
    }
   ],
   "source": [
    "\n",
    "# Query to fetch rows where type_code_set contains \"TOIMI\" but not \"TOIMI3\"\n",
    "query = \"\"\"\n",
    "SELECT *\n",
    "FROM main_business_lines\n",
    "WHERE type_code_set LIKE 'TOIMI3';\n",
    "\"\"\"\n",
    "# Load query results into a DataFrame\n",
    "df = pd.read_sql(query, engine)\n",
    "\n",
    "# Display the DataFrame\n",
    "print(df)"
   ]
  },
  {
   "cell_type": "code",
   "execution_count": 5,
   "metadata": {},
   "outputs": [
    {
     "name": "stdout",
     "output_type": "stream",
     "text": [
      "Tables in the database:\n",
      "                       table_name\n",
      "0                       companies\n",
      "1       company_form_descriptions\n",
      "2                           names\n",
      "3                       addresses\n",
      "4             main_business_lines\n",
      "5      business_line_descriptions\n",
      "6              registered_entries\n",
      "7                    post_offices\n",
      "8   registered_entry_descriptions\n",
      "9              company_situations\n",
      "10                  company_forms\n"
     ]
    }
   ],
   "source": [
    "query = \"\"\"\n",
    "SELECT table_name\n",
    "FROM information_schema.tables\n",
    "WHERE table_schema = 'public';\n",
    "\"\"\"\n",
    "\n",
    "# Execute the query and load results into a DataFrame\n",
    "tables_df = pd.read_sql(query, engine)\n",
    "\n",
    "# Display the table names\n",
    "print(\"Tables in the database:\")\n",
    "print(tables_df)"
   ]
  },
  {
   "cell_type": "code",
   "execution_count": 15,
   "metadata": {},
   "outputs": [
    {
     "name": "stdout",
     "output_type": "stream",
     "text": [
      "      business_id                                   company_name  \\\n",
      "0       2916425-2                         KJ-Kiinteistöhuolto OY   \n",
      "1       2916425-2                         KJ-Kiinteistöhuolto OY   \n",
      "2       2919081-3  Tili- ja konsultointipalvelu KOTI Avoin Yhtiö   \n",
      "3       2919081-3  Tili- ja konsultointipalvelu KOTI Avoin Yhtiö   \n",
      "4       2919185-9                         Pirkan Eläinlääkäri Oy   \n",
      "...           ...                                            ...   \n",
      "12347   3132728-4                                   Kultalasi Oy   \n",
      "12348   3132728-4                                   Kultalasi Oy   \n",
      "12349   3132728-4                                  Niittylä Home   \n",
      "12350   3132728-4                                  Niittylä Home   \n",
      "12351   3132528-9                Kiinteistö Oy Harjuniityn Halli   \n",
      "\n",
      "      registration_date status   city  \n",
      "0            2018-05-29  Valid  NOKIA  \n",
      "1            2018-05-29  Valid  NOKIA  \n",
      "2            2018-06-26  Valid  NOKIA  \n",
      "3            2018-06-26  Valid  NOKIA  \n",
      "4            2018-07-02  Valid  NOKIA  \n",
      "...                 ...    ...    ...  \n",
      "12347        2020-05-06  Valid  NOKIA  \n",
      "12348        2020-05-06  Valid  NOKIA  \n",
      "12349        2020-05-06  Valid  NOKIA  \n",
      "12350        2020-05-06  Valid  NOKIA  \n",
      "12351        2020-04-27  Valid  NOKIA  \n",
      "\n",
      "[12352 rows x 5 columns]\n"
     ]
    }
   ],
   "source": [
    "query = \"\"\"\n",
    "SELECT c.business_id, n.name AS company_name, c.registration_date, c.status, po.city\n",
    "FROM companies c\n",
    "JOIN post_offices po ON c.business_id = po.business_id\n",
    "JOIN names n ON c.business_id = n.business_id\n",
    "WHERE po.city = 'NOKIA'\n",
    "  AND c.status = 'Valid'; \n",
    "\"\"\"\n",
    "\n",
    "# Execute the query and load results into a DataFrame\n",
    "tables_df = pd.read_sql(query, engine)\n",
    "\n",
    "# Display the table names\n",
    "print(tables_df)"
   ]
  }
 ],
 "metadata": {
  "kernelspec": {
   "display_name": "etl_env",
   "language": "python",
   "name": "python3"
  },
  "language_info": {
   "codemirror_mode": {
    "name": "ipython",
    "version": 3
   },
   "file_extension": ".py",
   "mimetype": "text/x-python",
   "name": "python",
   "nbconvert_exporter": "python",
   "pygments_lexer": "ipython3",
   "version": "3.12.5"
  }
 },
 "nbformat": 4,
 "nbformat_minor": 2
}
